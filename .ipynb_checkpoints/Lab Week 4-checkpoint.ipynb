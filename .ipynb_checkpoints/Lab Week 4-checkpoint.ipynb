{
 "cells": [
  {
   "cell_type": "code",
   "execution_count": 125,
   "metadata": {},
   "outputs": [],
   "source": [
    "import pandas as pd\n",
    "import matplotlib.pyplot as plt\n",
    "import numpy as np"
   ]
  },
  {
   "cell_type": "code",
   "execution_count": 126,
   "metadata": {},
   "outputs": [],
   "source": [
    "data = {'month' : [1,2,3,4,5,6,7,8,9,10,11,12], 'Sales' : [5384, 8081, 10282, 9156, 6118, 9139, 12460, 10717, 7825, 9693, 15177, 10990]}"
   ]
  },
  {
   "cell_type": "code",
   "execution_count": 127,
   "metadata": {},
   "outputs": [],
   "source": [
    "df = pd.DataFrame(data)"
   ]
  },
  {
   "cell_type": "code",
   "execution_count": 128,
   "metadata": {},
   "outputs": [
    {
     "data": {
      "text/html": [
       "<div>\n",
       "<style scoped>\n",
       "    .dataframe tbody tr th:only-of-type {\n",
       "        vertical-align: middle;\n",
       "    }\n",
       "\n",
       "    .dataframe tbody tr th {\n",
       "        vertical-align: top;\n",
       "    }\n",
       "\n",
       "    .dataframe thead th {\n",
       "        text-align: right;\n",
       "    }\n",
       "</style>\n",
       "<table border=\"1\" class=\"dataframe\">\n",
       "  <thead>\n",
       "    <tr style=\"text-align: right;\">\n",
       "      <th></th>\n",
       "      <th>month</th>\n",
       "      <th>Sales</th>\n",
       "    </tr>\n",
       "  </thead>\n",
       "  <tbody>\n",
       "    <tr>\n",
       "      <th>0</th>\n",
       "      <td>1</td>\n",
       "      <td>5384</td>\n",
       "    </tr>\n",
       "    <tr>\n",
       "      <th>1</th>\n",
       "      <td>2</td>\n",
       "      <td>8081</td>\n",
       "    </tr>\n",
       "    <tr>\n",
       "      <th>2</th>\n",
       "      <td>3</td>\n",
       "      <td>10282</td>\n",
       "    </tr>\n",
       "    <tr>\n",
       "      <th>3</th>\n",
       "      <td>4</td>\n",
       "      <td>9156</td>\n",
       "    </tr>\n",
       "    <tr>\n",
       "      <th>4</th>\n",
       "      <td>5</td>\n",
       "      <td>6118</td>\n",
       "    </tr>\n",
       "  </tbody>\n",
       "</table>\n",
       "</div>"
      ],
      "text/plain": [
       "   month  Sales\n",
       "0      1   5384\n",
       "1      2   8081\n",
       "2      3  10282\n",
       "3      4   9156\n",
       "4      5   6118"
      ]
     },
     "execution_count": 128,
     "metadata": {},
     "output_type": "execute_result"
    }
   ],
   "source": [
    "df.head()"
   ]
  },
  {
   "cell_type": "code",
   "execution_count": null,
   "metadata": {},
   "outputs": [],
   "source": []
  },
  {
   "cell_type": "code",
   "execution_count": null,
   "metadata": {},
   "outputs": [],
   "source": []
  },
  {
   "cell_type": "markdown",
   "metadata": {},
   "source": [
    "## Visualusing Series Pattern"
   ]
  },
  {
   "cell_type": "code",
   "execution_count": 129,
   "metadata": {},
   "outputs": [
    {
     "data": {
      "text/plain": [
       "[<matplotlib.lines.Line2D at 0x208a551aeb8>]"
      ]
     },
     "execution_count": 129,
     "metadata": {},
     "output_type": "execute_result"
    },
    {
     "data": {
      "image/png": "[encoded data removed]",
      "text/plain": [
       "<Figure size 432x288 with 1 Axes>"
      ]
     },
     "metadata": {
      "needs_background": "light"
     },
     "output_type": "display_data"
    }
   ],
   "source": [
    "plt.plot(df['Sales'], label = \"Sales\")"
   ]
  },
  {
   "cell_type": "markdown",
   "metadata": {},
   "source": [
    "### The pattern shows that on every 2nd month there is a peak, and every 4th month shows a massive decline. Regardless, the sales have grown overall in a steady way."
   ]
  },
  {
   "cell_type": "code",
   "execution_count": null,
   "metadata": {},
   "outputs": [],
   "source": []
  },
  {
   "cell_type": "code",
   "execution_count": 130,
   "metadata": {},
   "outputs": [
    {
     "name": "stdout",
     "output_type": "stream",
     "text": [
      "    month  Sales\n",
      "0       1   5384\n",
      "1       2   8081\n",
      "2       3  10282\n",
      "3       4   9156\n",
      "4       5   6118\n",
      "5       6   9139\n",
      "6       7  12460\n",
      "7       8  10717\n",
      "8       9   7825\n",
      "9      10   9693\n",
      "10     11  15177\n",
      "11     12  10990\n",
      "12     13      0\n",
      "13     14      0\n",
      "14     15      0\n",
      "15     16      0\n"
     ]
    }
   ],
   "source": [
    "for i in range(13, 17):\n",
    "    df = df.append({'month': i, 'Sales': 0}, ignore_index = True)\n",
    "    \n",
    "print(df)"
   ]
  },
  {
   "cell_type": "code",
   "execution_count": 131,
   "metadata": {},
   "outputs": [
    {
     "name": "stdout",
     "output_type": "stream",
     "text": [
      "    month    Sales           avg\n",
      "0     1.0   5384.0      0.000000\n",
      "1     2.0   8081.0      0.000000\n",
      "2     3.0  10282.0      0.000000\n",
      "3     4.0   9156.0   7915.666667\n",
      "4     5.0   6118.0   9173.000000\n",
      "5     6.0   9139.0   8518.666667\n",
      "6     7.0  12460.0   8137.666667\n",
      "7     8.0  10717.0   9239.000000\n",
      "8     9.0   7825.0  10772.000000\n",
      "9    10.0   9693.0  10334.000000\n",
      "10   11.0  15177.0   9411.666667\n",
      "11   12.0  10990.0  10898.333333\n",
      "12   13.0      0.0  11953.333333\n",
      "13   14.0      0.0   8722.333333\n",
      "14   15.0      0.0   3663.333333\n",
      "15   16.0      0.0      0.000000\n",
      "16    NaN      NaN      0.000000\n"
     ]
    }
   ],
   "source": [
    "\n",
    "for i in range(0,17):\n",
    "    s = 0\n",
    "    if(i >= 3):\n",
    "        s += df.at[i-1,'Sales']\n",
    "        s += df.at[i-3, 'Sales']\n",
    "        s += df.at[i-2, 'Sales']\n",
    "    if(s > 0):\n",
    "        df.at[i, 'avg']=(s/3)\n",
    "    else:\n",
    "        df.at[i, 'avg']=(0)    \n",
    "print(df)"
   ]
  },
  {
   "cell_type": "code",
   "execution_count": 91,
   "metadata": {},
   "outputs": [
    {
     "data": {
      "text/plain": [
       "[<matplotlib.lines.Line2D at 0x208a542b240>]"
      ]
     },
     "execution_count": 91,
     "metadata": {},
     "output_type": "execute_result"
    },
    {
     "data": {
      "image/png": "[encoded data removed]",
      "text/plain": [
       "<Figure size 432x288 with 1 Axes>"
      ]
     },
     "metadata": {
      "needs_background": "light"
     },
     "output_type": "display_data"
    }
   ],
   "source": [
    "plt.plot(df['SMA_3'])\n",
    "plt.plot(df['Sales'])"
   ]
  },
  {
   "cell_type": "code",
   "execution_count": null,
   "metadata": {},
   "outputs": [],
   "source": []
  }
 ],
 "metadata": {
  "kernelspec": {
   "display_name": "Python 3",
   "language": "python",
   "name": "python3"
  },
  "language_info": {
   "codemirror_mode": {
    "name": "ipython",
    "version": 3
   },
   "file_extension": ".py",
   "mimetype": "text/x-python",
   "name": "python",
   "nbconvert_exporter": "python",
   "pygments_lexer": "ipython3",
   "version": "3.7.3"
  }
 },
 "nbformat": 4,
 "nbformat_minor": 2
}
